{
 "cells": [
  {
   "cell_type": "markdown",
   "metadata": {},
   "source": [
    "## Evaluation part 1\n"
   ]
  },
  {
   "cell_type": "code",
   "execution_count": 3,
   "metadata": {},
   "outputs": [],
   "source": [
    "\n",
    "%matplotlib inline\n",
    "import numpy as np\n",
    "import pandas as pd\n",
    "import re\n",
    "import sklearn\n",
    "import matplotlib.pyplot as plt\n",
    "from sklearn.feature_extraction.text import CountVectorizer\n",
    "from sklearn.metrics import confusion_matrix\n",
    "from sklearn.model_selection import GridSearchCV\n",
    "from sklearn.model_selection import train_test_split\n",
    "from sklearn.model_selection import cross_val_score\n",
    "from sklearn.linear_model import LogisticRegression\n",
    "from sklearn.linear_model import SGDClassifier\n",
    "from sklearn.neural_network import MLPClassifier\n",
    "from sklearn.metrics import classification_report\n"
   ]
  },
  {
   "cell_type": "markdown",
   "metadata": {},
   "source": [
    "Get data set from CSV and pandas dataframe"
   ]
  },
  {
   "cell_type": "code",
   "execution_count": 5,
   "metadata": {},
   "outputs": [
    {
     "data": {
      "text/html": [
       "<div>\n",
       "<style scoped>\n",
       "    .dataframe tbody tr th:only-of-type {\n",
       "        vertical-align: middle;\n",
       "    }\n",
       "\n",
       "    .dataframe tbody tr th {\n",
       "        vertical-align: top;\n",
       "    }\n",
       "\n",
       "    .dataframe thead th {\n",
       "        text-align: right;\n",
       "    }\n",
       "</style>\n",
       "<table border=\"1\" class=\"dataframe\">\n",
       "  <thead>\n",
       "    <tr style=\"text-align: right;\">\n",
       "      <th></th>\n",
       "      <th>label</th>\n",
       "      <th>expression</th>\n",
       "    </tr>\n",
       "  </thead>\n",
       "  <tbody>\n",
       "    <tr>\n",
       "      <th>0</th>\n",
       "      <td>intent_flight_search</td>\n",
       "      <td>please help me to search for a flight</td>\n",
       "    </tr>\n",
       "    <tr>\n",
       "      <th>1</th>\n",
       "      <td>intent_flight_status</td>\n",
       "      <td>check status of flight leaving [today](Departu...</td>\n",
       "    </tr>\n",
       "    <tr>\n",
       "      <th>2</th>\n",
       "      <td>intent_provide_flight_info</td>\n",
       "      <td>on [next friday](Departure.EstimatedDate|tomor...</td>\n",
       "    </tr>\n",
       "    <tr>\n",
       "      <th>3</th>\n",
       "      <td>intent_flight_status</td>\n",
       "      <td>help me check status of flight departing from ...</td>\n",
       "    </tr>\n",
       "    <tr>\n",
       "      <th>4</th>\n",
       "      <td>intent_flight_status</td>\n",
       "      <td>will my flight leave ontime from [SLC](Departu...</td>\n",
       "    </tr>\n",
       "    <tr>\n",
       "      <th>...</th>\n",
       "      <td>...</td>\n",
       "      <td>...</td>\n",
       "    </tr>\n",
       "    <tr>\n",
       "      <th>73</th>\n",
       "      <td>intent_flight_search</td>\n",
       "      <td>can you please help me to search for a flight ...</td>\n",
       "    </tr>\n",
       "    <tr>\n",
       "      <th>74</th>\n",
       "      <td>intent_flight_status</td>\n",
       "      <td>tell me flight status for [762(FlightNumber|75...</td>\n",
       "    </tr>\n",
       "    <tr>\n",
       "      <th>75</th>\n",
       "      <td>intent_provide_flight_info</td>\n",
       "      <td>we are on flight [234](FlightNumber|600|666|92...</td>\n",
       "    </tr>\n",
       "    <tr>\n",
       "      <th>76</th>\n",
       "      <td>intent_flight_status</td>\n",
       "      <td>flight status</td>\n",
       "    </tr>\n",
       "    <tr>\n",
       "      <th>77</th>\n",
       "      <td>intent_flight_status</td>\n",
       "      <td>is flight [501](FlightNumber|873|157|671|613|2...</td>\n",
       "    </tr>\n",
       "  </tbody>\n",
       "</table>\n",
       "<p>78 rows × 2 columns</p>\n",
       "</div>"
      ],
      "text/plain": [
       "                         label  \\\n",
       "0         intent_flight_search   \n",
       "1         intent_flight_status   \n",
       "2   intent_provide_flight_info   \n",
       "3         intent_flight_status   \n",
       "4         intent_flight_status   \n",
       "..                         ...   \n",
       "73        intent_flight_search   \n",
       "74        intent_flight_status   \n",
       "75  intent_provide_flight_info   \n",
       "76        intent_flight_status   \n",
       "77        intent_flight_status   \n",
       "\n",
       "                                           expression  \n",
       "0               please help me to search for a flight  \n",
       "1   check status of flight leaving [today](Departu...  \n",
       "2   on [next friday](Departure.EstimatedDate|tomor...  \n",
       "3   help me check status of flight departing from ...  \n",
       "4   will my flight leave ontime from [SLC](Departu...  \n",
       "..                                                ...  \n",
       "73  can you please help me to search for a flight ...  \n",
       "74  tell me flight status for [762(FlightNumber|75...  \n",
       "75  we are on flight [234](FlightNumber|600|666|92...  \n",
       "76                                      flight status  \n",
       "77  is flight [501](FlightNumber|873|157|671|613|2...  \n",
       "\n",
       "[78 rows x 2 columns]"
      ]
     },
     "execution_count": 5,
     "metadata": {},
     "output_type": "execute_result"
    }
   ],
   "source": [
    "data = pd.read_csv(\"evalution_data_set.csv\")\n",
    "data.head()\n",
    "data = data.sample(frac=1).reset_index(drop=True)\n",
    "data"
   ]
  },
  {
   "cell_type": "markdown",
   "metadata": {},
   "source": [
    "Extract statement and entities from expression using the given function"
   ]
  },
  {
   "cell_type": "code",
   "execution_count": 6,
   "metadata": {},
   "outputs": [
    {
     "data": {
      "text/html": [
       "<div>\n",
       "<style scoped>\n",
       "    .dataframe tbody tr th:only-of-type {\n",
       "        vertical-align: middle;\n",
       "    }\n",
       "\n",
       "    .dataframe tbody tr th {\n",
       "        vertical-align: top;\n",
       "    }\n",
       "\n",
       "    .dataframe thead th {\n",
       "        text-align: right;\n",
       "    }\n",
       "</style>\n",
       "<table border=\"1\" class=\"dataframe\">\n",
       "  <thead>\n",
       "    <tr style=\"text-align: right;\">\n",
       "      <th></th>\n",
       "      <th>label</th>\n",
       "      <th>expression</th>\n",
       "      <th>statement</th>\n",
       "      <th>entities</th>\n",
       "    </tr>\n",
       "  </thead>\n",
       "  <tbody>\n",
       "    <tr>\n",
       "      <th>0</th>\n",
       "      <td>intent_flight_search</td>\n",
       "      <td>please help me to search for a flight</td>\n",
       "      <td>please help me to search for a flight</td>\n",
       "      <td>[]</td>\n",
       "    </tr>\n",
       "    <tr>\n",
       "      <th>1</th>\n",
       "      <td>intent_flight_status</td>\n",
       "      <td>check status of flight leaving [today](Departu...</td>\n",
       "      <td>check status of flight leaving today</td>\n",
       "      <td>[{'span_start': 31, 'span_end': 36, 'entity_va...</td>\n",
       "    </tr>\n",
       "    <tr>\n",
       "      <th>2</th>\n",
       "      <td>intent_provide_flight_info</td>\n",
       "      <td>on [next friday](Departure.EstimatedDate|tomor...</td>\n",
       "      <td>on next friday I'm taking flight 874 from Calg...</td>\n",
       "      <td>[{'span_start': 3, 'span_end': 14, 'entity_val...</td>\n",
       "    </tr>\n",
       "    <tr>\n",
       "      <th>3</th>\n",
       "      <td>intent_flight_status</td>\n",
       "      <td>help me check status of flight departing from ...</td>\n",
       "      <td>help me check status of flight departing from ...</td>\n",
       "      <td>[{'span_start': 46, 'span_end': 51, 'entity_va...</td>\n",
       "    </tr>\n",
       "    <tr>\n",
       "      <th>4</th>\n",
       "      <td>intent_flight_status</td>\n",
       "      <td>will my flight leave ontime from [SLC](Departu...</td>\n",
       "      <td>will my flight leave ontime from SLC?</td>\n",
       "      <td>[{'span_start': 33, 'span_end': 36, 'entity_va...</td>\n",
       "    </tr>\n",
       "  </tbody>\n",
       "</table>\n",
       "</div>"
      ],
      "text/plain": [
       "                        label  \\\n",
       "0        intent_flight_search   \n",
       "1        intent_flight_status   \n",
       "2  intent_provide_flight_info   \n",
       "3        intent_flight_status   \n",
       "4        intent_flight_status   \n",
       "\n",
       "                                          expression  \\\n",
       "0              please help me to search for a flight   \n",
       "1  check status of flight leaving [today](Departu...   \n",
       "2  on [next friday](Departure.EstimatedDate|tomor...   \n",
       "3  help me check status of flight departing from ...   \n",
       "4  will my flight leave ontime from [SLC](Departu...   \n",
       "\n",
       "                                           statement  \\\n",
       "0              please help me to search for a flight   \n",
       "1               check status of flight leaving today   \n",
       "2  on next friday I'm taking flight 874 from Calg...   \n",
       "3  help me check status of flight departing from ...   \n",
       "4              will my flight leave ontime from SLC?   \n",
       "\n",
       "                                            entities  \n",
       "0                                                 []  \n",
       "1  [{'span_start': 31, 'span_end': 36, 'entity_va...  \n",
       "2  [{'span_start': 3, 'span_end': 14, 'entity_val...  \n",
       "3  [{'span_start': 46, 'span_end': 51, 'entity_va...  \n",
       "4  [{'span_start': 33, 'span_end': 36, 'entity_va...  "
      ]
     },
     "execution_count": 6,
     "metadata": {},
     "output_type": "execute_result"
    }
   ],
   "source": [
    "def _entity_string_to_dict(entity_string):\n",
    "    entity_extract_pattern = re.compile(r'(?P<entity>\\[(?P<value>.+?)\\]\\((?P<name_and_synonyms>.+?)\\))')\n",
    "    new_string = ''\n",
    "    start = 0\n",
    "    output = dict()\n",
    "    output['entities'] = []\n",
    "    for item in re.finditer(entity_extract_pattern, entity_string):\n",
    "        d = dict()\n",
    "        new_string += entity_string[start:item.start()]\n",
    "        start = item.start()\n",
    "        d['span_start'] = len(new_string)\n",
    "        new_string += item.group('value')\n",
    "        d['span_end'] = len(new_string)\n",
    "        start += len(item.group('entity'))\n",
    "        d['entity_value'] = item.group('value')\n",
    "\n",
    "        syn_items = item.group('name_and_synonyms').split('|')\n",
    "        d['entity_type'] = syn_items[0]\n",
    "        d['synonyms'] = list()\n",
    "        if len(syn_items) > 1:\n",
    "            d['synonyms'] += [t for t in syn_items[1:]]\n",
    "\n",
    "        output['entities'].append(d)\n",
    "    new_string += entity_string[start:]\n",
    "    output['statement'] = new_string\n",
    "    return output\n",
    "\n",
    "\n",
    "data['statement'] = data.apply(lambda x: _entity_string_to_dict(x['expression'])['statement'], axis=1)\n",
    "data['entities'] = data.apply(lambda x: _entity_string_to_dict(x['expression'])['entities'], axis=1)\n",
    "data.head()"
   ]
  },
  {
   "cell_type": "markdown",
   "metadata": {},
   "source": [
    "Simple split function to split the data in to test data and training data samples"
   ]
  },
  {
   "cell_type": "code",
   "execution_count": 7,
   "metadata": {},
   "outputs": [],
   "source": [
    "def simple_split(data,y,length,split_mark=0.7):\n",
    "    if split_mark > 0. and split_mark < 1.0:\n",
    "        n = int(split_mark*length)\n",
    "    else:\n",
    "        n = int(split_mark)\n",
    "    x_train = data[:n].copy()\n",
    "    x_test = data[n:].copy()\n",
    "    y_train = y[:n].copy()\n",
    "    y_test = y[n:].copy()\n",
    "    return x_train,x_test,y_train,y_test"
   ]
  },
  {
   "cell_type": "markdown",
   "metadata": {},
   "source": [
    "Create count verctorizer and split the data set"
   ]
  },
  {
   "cell_type": "code",
   "execution_count": 11,
   "metadata": {},
   "outputs": [
    {
     "name": "stdout",
     "output_type": "stream",
     "text": [
      "(54,) (24,)\n"
     ]
    }
   ],
   "source": [
    "vectorizer = CountVectorizer()\n",
    "x_train,x_test,y_train,y_test = simple_split(data.statement,data.label,len(data))\n",
    "print(x_train.shape,x_test.shape)"
   ]
  },
  {
   "cell_type": "markdown",
   "metadata": {},
   "source": [
    "Number of data points from each intent class"
   ]
  },
  {
   "cell_type": "code",
   "execution_count": 12,
   "metadata": {},
   "outputs": [
    {
     "data": {
      "text/html": [
       "<div>\n",
       "<style scoped>\n",
       "    .dataframe tbody tr th:only-of-type {\n",
       "        vertical-align: middle;\n",
       "    }\n",
       "\n",
       "    .dataframe tbody tr th {\n",
       "        vertical-align: top;\n",
       "    }\n",
       "\n",
       "    .dataframe thead th {\n",
       "        text-align: right;\n",
       "    }\n",
       "</style>\n",
       "<table border=\"1\" class=\"dataframe\">\n",
       "  <thead>\n",
       "    <tr style=\"text-align: right;\">\n",
       "      <th></th>\n",
       "      <th>expression</th>\n",
       "      <th>statement</th>\n",
       "      <th>entities</th>\n",
       "    </tr>\n",
       "    <tr>\n",
       "      <th>label</th>\n",
       "      <th></th>\n",
       "      <th></th>\n",
       "      <th></th>\n",
       "    </tr>\n",
       "  </thead>\n",
       "  <tbody>\n",
       "    <tr>\n",
       "      <th>intent_flight_search</th>\n",
       "      <td>25</td>\n",
       "      <td>25</td>\n",
       "      <td>25</td>\n",
       "    </tr>\n",
       "    <tr>\n",
       "      <th>intent_flight_status</th>\n",
       "      <td>28</td>\n",
       "      <td>28</td>\n",
       "      <td>28</td>\n",
       "    </tr>\n",
       "    <tr>\n",
       "      <th>intent_provide_flight_info</th>\n",
       "      <td>25</td>\n",
       "      <td>25</td>\n",
       "      <td>25</td>\n",
       "    </tr>\n",
       "  </tbody>\n",
       "</table>\n",
       "</div>"
      ],
      "text/plain": [
       "                            expression  statement  entities\n",
       "label                                                      \n",
       "intent_flight_search                25         25        25\n",
       "intent_flight_status                28         28        28\n",
       "intent_provide_flight_info          25         25        25"
      ]
     },
     "execution_count": 12,
     "metadata": {},
     "output_type": "execute_result"
    }
   ],
   "source": [
    "data.groupby('label').count()"
   ]
  },
  {
   "cell_type": "markdown",
   "metadata": {},
   "source": [
    "\n",
    "Train the count vectorizer uning train dataset from tranform and fit function, also tranform the test data."
   ]
  },
  {
   "cell_type": "code",
   "execution_count": 13,
   "metadata": {},
   "outputs": [],
   "source": [
    "x_train = vectorizer.fit_transform(x_train)\n",
    "x_test = vectorizer.transform(x_test)"
   ]
  },
  {
   "cell_type": "markdown",
   "metadata": {},
   "source": [
    "Features extracted from train dataset using the count vectorizer"
   ]
  },
  {
   "cell_type": "code",
   "execution_count": 14,
   "metadata": {},
   "outputs": [
    {
     "name": "stdout",
     "output_type": "stream",
     "text": [
      "Number of features: 91\n",
      "Number of features: ['100', '12th', '214', '400', '412', '417', '431', '433', '451', '456', '473', '562', '571', '581', '688', '781', '874', '944', '981', 'able', 'about', 'airport', 'airportcode', 'are', 'be', 'calgary', 'can', 'check', 'cmb', 'colombo', 'depart', 'departe', 'departing', 'departure', 'does', 'dubai', 'find', 'flight', 'flights', 'flying', 'fo', 'for', 'fran', 'francisco', 'fransisco', 'friday', 'from', 'going', 'heathrow', 'help', 'how', 'is', 'jfk', 'june', 'lax', 'leave', 'leaving', 'me', 'monday', 'my', 'need', 'next', 'number', 'of', 'on', 'ontime', 'our', 'planning', 'please', 'quick', 'san', 'search', 'sfo', 'slc', 'status', 'sunday', 'taking', 'the', 'time', 'to']\n"
     ]
    }
   ],
   "source": [
    "feature_names = vectorizer.get_feature_names()\n",
    "print(\"Number of features: {}\".format(len(feature_names)))\n",
    "print(\"Number of features: {}\".format(feature_names[:80]))"
   ]
  },
  {
   "cell_type": "code",
   "execution_count": 15,
   "metadata": {},
   "outputs": [
    {
     "data": {
      "text/plain": [
       "{'please': 68,\n",
       " 'help': 49,\n",
       " 'me': 57,\n",
       " 'to': 79,\n",
       " 'search': 71,\n",
       " 'for': 41,\n",
       " 'flight': 37,\n",
       " 'check': 27,\n",
       " 'status': 74,\n",
       " 'of': 63,\n",
       " 'leaving': 56,\n",
       " 'today': 80,\n",
       " 'on': 64,\n",
       " 'next': 61,\n",
       " 'friday': 45,\n",
       " 'taking': 76,\n",
       " '874': 16,\n",
       " 'from': 46,\n",
       " 'calgary': 25,\n",
       " 'heathrow': 48,\n",
       " 'departing': 32,\n",
       " 'dubai': 35,\n",
       " 'will': 88,\n",
       " 'my': 59,\n",
       " 'leave': 55,\n",
       " 'ontime': 65,\n",
       " 'slc': 73,\n",
       " 'wanna': 82,\n",
       " 'quick': 69,\n",
       " '473': 10,\n",
       " 'lax': 54,\n",
       " 'can': 26,\n",
       " 'you': 89,\n",
       " 'find': 36,\n",
       " 'when': 87,\n",
       " 'be': 24,\n",
       " 'tomorrow': 81,\n",
       " 'planning': 67,\n",
       " 'sunday': 75,\n",
       " 'flying': 39,\n",
       " 'sfo': 72,\n",
       " 'we': 84,\n",
       " 'are': 23,\n",
       " '12th': 1,\n",
       " 'june': 53,\n",
       " 'want': 83,\n",
       " 'flights': 38,\n",
       " 'cmb': 28,\n",
       " 'number': 62,\n",
       " '456': 9,\n",
       " 'does': 34,\n",
       " '214': 2,\n",
       " 'depart': 30,\n",
       " 'fo': 40,\n",
       " 'yyz': 90,\n",
       " 'jfk': 52,\n",
       " 'were': 85,\n",
       " '688': 14,\n",
       " 'is': 51,\n",
       " '562': 11,\n",
       " 'what': 86,\n",
       " 'the': 77,\n",
       " '100': 0,\n",
       " '431': 6,\n",
       " 'colombo': 29,\n",
       " '412': 4,\n",
       " '400': 3,\n",
       " '781': 15,\n",
       " 'monday': 58,\n",
       " 'how': 50,\n",
       " 'about': 20,\n",
       " 'our': 66,\n",
       " '417': 5,\n",
       " 'departure': 33,\n",
       " 'airport': 21,\n",
       " 'airportcode': 22,\n",
       " 'san': 70,\n",
       " 'fran': 42,\n",
       " 'francisco': 43,\n",
       " 'fransisco': 44,\n",
       " '581': 13,\n",
       " 'able': 19,\n",
       " '571': 12,\n",
       " '451': 8,\n",
       " 'time': 78,\n",
       " '981': 18,\n",
       " '944': 17,\n",
       " 'need': 60,\n",
       " 'departe': 31,\n",
       " '433': 7,\n",
       " 'going': 47}"
      ]
     },
     "execution_count": 15,
     "metadata": {},
     "output_type": "execute_result"
    }
   ],
   "source": [
    "vectorizer.vocabulary_"
   ]
  },
  {
   "cell_type": "markdown",
   "metadata": {},
   "source": [
    "## Logistic regression\n",
    "Calculate the cross validation score for logistic regression for the dataset "
   ]
  },
  {
   "cell_type": "code",
   "execution_count": 17,
   "metadata": {},
   "outputs": [
    {
     "name": "stdout",
     "output_type": "stream",
     "text": [
      "Mean cross validation accuracy: 0.91\n"
     ]
    }
   ],
   "source": [
    "scores = cross_val_score(LogisticRegression( max_iter=100),vectorizer.transform(data.statement),data.label,cv=5)\n",
    "print(\"Mean cross validation accuracy: {:.2f}\".format(np.mean(scores)))"
   ]
  },
  {
   "cell_type": "markdown",
   "metadata": {},
   "source": [
    "Train logistic regression model with the train data set with lables. then test and extact the prediction accuracy on the test dataset"
   ]
  },
  {
   "cell_type": "code",
   "execution_count": 18,
   "metadata": {},
   "outputs": [
    {
     "name": "stdout",
     "output_type": "stream",
     "text": [
      "Training set score: 1.000\n",
      "Testing set score: 0.958\n"
     ]
    }
   ],
   "source": [
    "logreg = LogisticRegression(max_iter=1000)\n",
    "logreg.fit(x_train,y_train)\n",
    "print(\"Training set score: {:.3f}\".format(logreg.score(x_train,y_train)))\n",
    "print(\"Testing set score: {:.3f}\".format(logreg.score(x_test,y_test)))"
   ]
  },
  {
   "cell_type": "markdown",
   "metadata": {},
   "source": [
    " Confusion metrix to check how prediction result differ from their actual lable for each class"
   ]
  },
  {
   "cell_type": "code",
   "execution_count": 20,
   "metadata": {},
   "outputs": [
    {
     "name": "stdout",
     "output_type": "stream",
     "text": [
      "Confusion matrix:\n",
      " \n"
     ]
    },
    {
     "data": {
      "text/html": [
       "<div>\n",
       "<style scoped>\n",
       "    .dataframe tbody tr th:only-of-type {\n",
       "        vertical-align: middle;\n",
       "    }\n",
       "\n",
       "    .dataframe tbody tr th {\n",
       "        vertical-align: top;\n",
       "    }\n",
       "\n",
       "    .dataframe thead tr th {\n",
       "        text-align: left;\n",
       "    }\n",
       "</style>\n",
       "<table border=\"1\" class=\"dataframe\">\n",
       "  <thead>\n",
       "    <tr>\n",
       "      <th></th>\n",
       "      <th colspan=\"3\" halign=\"left\">Predicted label</th>\n",
       "    </tr>\n",
       "    <tr>\n",
       "      <th>Actual label</th>\n",
       "      <th>intent_flight_search</th>\n",
       "      <th>intent_flight_status</th>\n",
       "      <th>intent_provide_flight_info</th>\n",
       "    </tr>\n",
       "  </thead>\n",
       "  <tbody>\n",
       "    <tr>\n",
       "      <th>intent_flight_search</th>\n",
       "      <td>9</td>\n",
       "      <td>0</td>\n",
       "      <td>0</td>\n",
       "    </tr>\n",
       "    <tr>\n",
       "      <th>intent_flight_status</th>\n",
       "      <td>0</td>\n",
       "      <td>8</td>\n",
       "      <td>1</td>\n",
       "    </tr>\n",
       "    <tr>\n",
       "      <th>intent_provide_flight_info</th>\n",
       "      <td>0</td>\n",
       "      <td>0</td>\n",
       "      <td>6</td>\n",
       "    </tr>\n",
       "  </tbody>\n",
       "</table>\n",
       "</div>"
      ],
      "text/plain": [
       "                                Predicted label                       \\\n",
       "Actual label               intent_flight_search intent_flight_status   \n",
       "intent_flight_search                          9                    0   \n",
       "intent_flight_status                          0                    8   \n",
       "intent_provide_flight_info                    0                    0   \n",
       "\n",
       "                                                       \n",
       "Actual label               intent_provide_flight_info  \n",
       "intent_flight_search                                0  \n",
       "intent_flight_status                                1  \n",
       "intent_provide_flight_info                          6  "
      ]
     },
     "execution_count": 20,
     "metadata": {},
     "output_type": "execute_result"
    }
   ],
   "source": [
    "sorted_labels = sorted(\n",
    "    data.label.unique(), \n",
    "    key=lambda name: (name[1:], name[0])\n",
    ")\n",
    "\n",
    "pred_logreg = logreg.predict(x_test)\n",
    "confusion_logreg = confusion_matrix(y_test,pred_logreg)\n",
    "print(\"Confusion matrix:\\n \")\n",
    "\n",
    "header = pd.MultiIndex.from_product([['Predicted label'],\n",
    "                                     sorted_labels],names=['','Actual label'])\n",
    "confusion_mtrix_df =  pd.DataFrame(confusion_logreg,index=sorted_labels, \n",
    "                  columns=header)\n",
    "confusion_mtrix_df"
   ]
  },
  {
   "cell_type": "markdown",
   "metadata": {},
   "source": [
    "Using trained logistic regression model to predict intent lable from sample test cases"
   ]
  },
  {
   "cell_type": "code",
   "execution_count": 21,
   "metadata": {},
   "outputs": [
    {
     "name": "stdout",
     "output_type": "stream",
     "text": [
      "prediction:\n",
      " ['intent_flight_search' 'intent_provide_flight_info'\n",
      " 'intent_flight_status']\n"
     ]
    }
   ],
   "source": [
    "ans = logreg.predict(vectorizer.transform([\"can you help me to find a flight ?\",\"we are leaving from San Francisco\",\"how about the status of our flight departing from next Friday)\"]))\n",
    "print(\"prediction:\\n {}\".format(ans))"
   ]
  },
  {
   "cell_type": "markdown",
   "metadata": {},
   "source": [
    "Following is the precision, recall and f1-score for the trained logistic regression model"
   ]
  },
  {
   "cell_type": "code",
   "execution_count": 22,
   "metadata": {},
   "outputs": [
    {
     "name": "stdout",
     "output_type": "stream",
     "text": [
      "                            precision    recall  f1-score   support\n",
      "\n",
      "      intent_flight_search       1.00      1.00      1.00         9\n",
      "      intent_flight_status       1.00      0.89      0.94         9\n",
      "intent_provide_flight_info       0.86      1.00      0.92         6\n",
      "\n",
      "                  accuracy                           0.96        24\n",
      "                 macro avg       0.95      0.96      0.95        24\n",
      "              weighted avg       0.96      0.96      0.96        24\n",
      "\n"
     ]
    }
   ],
   "source": [
    "print(classification_report(y_test, pred_logreg, target_names=sorted_labels))"
   ]
  },
  {
   "cell_type": "markdown",
   "metadata": {},
   "source": [
    "## Stochastic gradient descent model\n",
    "\n",
    "Calculate cross validation score for the data set using stochastic gradient descent model"
   ]
  },
  {
   "cell_type": "code",
   "execution_count": 23,
   "metadata": {},
   "outputs": [
    {
     "name": "stdout",
     "output_type": "stream",
     "text": [
      "Mean cross validation accuracy: 0.86\n"
     ]
    }
   ],
   "source": [
    "scores = cross_val_score(SGDClassifier(loss=\"hinge\", penalty=\"l2\", max_iter=1000),vectorizer.transform(data.statement),data.label,cv=5)\n",
    "print(\"Mean cross validation accuracy: {:.2f}\".format(np.mean(scores)))"
   ]
  },
  {
   "cell_type": "markdown",
   "metadata": {},
   "source": [
    "Train gradient descent model using train dataset and test the accuracy using the test dataset"
   ]
  },
  {
   "cell_type": "code",
   "execution_count": 24,
   "metadata": {},
   "outputs": [
    {
     "name": "stdout",
     "output_type": "stream",
     "text": [
      "Training set score: 1.000\n",
      "Testing set score: 0.958\n"
     ]
    }
   ],
   "source": [
    "clf = SGDClassifier(loss=\"hinge\", penalty=\"l2\", max_iter=1000)\n",
    "clf.fit(x_train,y_train)\n",
    "print(\"Training set score: {:.3f}\".format(clf.score(x_train,y_train)))\n",
    "print(\"Testing set score: {:.3f}\".format(clf.score(x_test,y_test)))"
   ]
  },
  {
   "cell_type": "markdown",
   "metadata": {},
   "source": [
    "Confusion metrix to check how prediction result differ from their actual lable for each class"
   ]
  },
  {
   "cell_type": "code",
   "execution_count": 25,
   "metadata": {},
   "outputs": [
    {
     "name": "stdout",
     "output_type": "stream",
     "text": [
      "Confusion matrix:\n",
      "\n"
     ]
    },
    {
     "data": {
      "text/html": [
       "<div>\n",
       "<style scoped>\n",
       "    .dataframe tbody tr th:only-of-type {\n",
       "        vertical-align: middle;\n",
       "    }\n",
       "\n",
       "    .dataframe tbody tr th {\n",
       "        vertical-align: top;\n",
       "    }\n",
       "\n",
       "    .dataframe thead tr th {\n",
       "        text-align: left;\n",
       "    }\n",
       "</style>\n",
       "<table border=\"1\" class=\"dataframe\">\n",
       "  <thead>\n",
       "    <tr>\n",
       "      <th></th>\n",
       "      <th colspan=\"3\" halign=\"left\">Predicted label</th>\n",
       "    </tr>\n",
       "    <tr>\n",
       "      <th>Actual label</th>\n",
       "      <th>intent_flight_search</th>\n",
       "      <th>intent_flight_status</th>\n",
       "      <th>intent_provide_flight_info</th>\n",
       "    </tr>\n",
       "  </thead>\n",
       "  <tbody>\n",
       "    <tr>\n",
       "      <th>intent_flight_search</th>\n",
       "      <td>9</td>\n",
       "      <td>0</td>\n",
       "      <td>0</td>\n",
       "    </tr>\n",
       "    <tr>\n",
       "      <th>intent_flight_status</th>\n",
       "      <td>0</td>\n",
       "      <td>8</td>\n",
       "      <td>1</td>\n",
       "    </tr>\n",
       "    <tr>\n",
       "      <th>intent_provide_flight_info</th>\n",
       "      <td>0</td>\n",
       "      <td>0</td>\n",
       "      <td>6</td>\n",
       "    </tr>\n",
       "  </tbody>\n",
       "</table>\n",
       "</div>"
      ],
      "text/plain": [
       "                                Predicted label                       \\\n",
       "Actual label               intent_flight_search intent_flight_status   \n",
       "intent_flight_search                          9                    0   \n",
       "intent_flight_status                          0                    8   \n",
       "intent_provide_flight_info                    0                    0   \n",
       "\n",
       "                                                       \n",
       "Actual label               intent_provide_flight_info  \n",
       "intent_flight_search                                0  \n",
       "intent_flight_status                                1  \n",
       "intent_provide_flight_info                          6  "
      ]
     },
     "execution_count": 25,
     "metadata": {},
     "output_type": "execute_result"
    }
   ],
   "source": [
    "pred_sgd = clf.predict(x_test)\n",
    "confusion_sgd = confusion_matrix(y_test,pred_sgd)\n",
    "print(\"Confusion matrix:\\n\")\n",
    "\n",
    "header = pd.MultiIndex.from_product([['Predicted label'],\n",
    "                                     sorted_labels],names=['','Actual label'])\n",
    "confusion_mtrix_df =  pd.DataFrame(confusion_sgd,index=sorted_labels, \n",
    "                  columns=header)\n",
    "confusion_mtrix_df"
   ]
  },
  {
   "cell_type": "markdown",
   "metadata": {},
   "source": [
    "Following is the precision, recall and f1-score for the trained  stochastic gradient descent model"
   ]
  },
  {
   "cell_type": "code",
   "execution_count": 26,
   "metadata": {},
   "outputs": [
    {
     "name": "stdout",
     "output_type": "stream",
     "text": [
      "                            precision    recall  f1-score   support\n",
      "\n",
      "      intent_flight_search       1.00      1.00      1.00         9\n",
      "      intent_flight_status       1.00      0.89      0.94         9\n",
      "intent_provide_flight_info       0.86      1.00      0.92         6\n",
      "\n",
      "                  accuracy                           0.96        24\n",
      "                 macro avg       0.95      0.96      0.95        24\n",
      "              weighted avg       0.96      0.96      0.96        24\n",
      "\n"
     ]
    }
   ],
   "source": [
    "print(classification_report(y_test, pred_sgd, target_names=sorted_labels))"
   ]
  },
  {
   "cell_type": "markdown",
   "metadata": {},
   "source": [
    "## Multilayer perceptron model\n",
    "Using Multilayer perceptron model to the same tests"
   ]
  },
  {
   "cell_type": "code",
   "execution_count": 20,
   "metadata": {},
   "outputs": [
    {
     "name": "stdout",
     "output_type": "stream",
     "text": [
      "Mean cross validation accuracy: 0.87\n"
     ]
    }
   ],
   "source": [
    "scores = cross_val_score(MLPClassifier(random_state=1, max_iter=1000),vectorizer.transform(data.statement),data.label,cv=5)\n",
    "print(\"Mean cross validation accuracy: {:.2f}\".format(np.mean(scores)))"
   ]
  },
  {
   "cell_type": "code",
   "execution_count": 21,
   "metadata": {},
   "outputs": [
    {
     "name": "stdout",
     "output_type": "stream",
     "text": [
      "Training set score: 1.000\n",
      "Testing set score: 0.833\n",
      "Confusion matrix:\n",
      "\n"
     ]
    },
    {
     "data": {
      "text/html": [
       "<div>\n",
       "<style scoped>\n",
       "    .dataframe tbody tr th:only-of-type {\n",
       "        vertical-align: middle;\n",
       "    }\n",
       "\n",
       "    .dataframe tbody tr th {\n",
       "        vertical-align: top;\n",
       "    }\n",
       "\n",
       "    .dataframe thead tr th {\n",
       "        text-align: left;\n",
       "    }\n",
       "</style>\n",
       "<table border=\"1\" class=\"dataframe\">\n",
       "  <thead>\n",
       "    <tr>\n",
       "      <th></th>\n",
       "      <th colspan=\"3\" halign=\"left\">Predicted label</th>\n",
       "    </tr>\n",
       "    <tr>\n",
       "      <th>Actual label</th>\n",
       "      <th>intent_flight_search</th>\n",
       "      <th>intent_flight_status</th>\n",
       "      <th>intent_provide_flight_info</th>\n",
       "    </tr>\n",
       "  </thead>\n",
       "  <tbody>\n",
       "    <tr>\n",
       "      <th>intent_flight_search</th>\n",
       "      <td>9</td>\n",
       "      <td>0</td>\n",
       "      <td>0</td>\n",
       "    </tr>\n",
       "    <tr>\n",
       "      <th>intent_flight_status</th>\n",
       "      <td>0</td>\n",
       "      <td>6</td>\n",
       "      <td>1</td>\n",
       "    </tr>\n",
       "    <tr>\n",
       "      <th>intent_provide_flight_info</th>\n",
       "      <td>1</td>\n",
       "      <td>2</td>\n",
       "      <td>5</td>\n",
       "    </tr>\n",
       "  </tbody>\n",
       "</table>\n",
       "</div>"
      ],
      "text/plain": [
       "                                Predicted label                       \\\n",
       "Actual label               intent_flight_search intent_flight_status   \n",
       "intent_flight_search                          9                    0   \n",
       "intent_flight_status                          0                    6   \n",
       "intent_provide_flight_info                    1                    2   \n",
       "\n",
       "                                                       \n",
       "Actual label               intent_provide_flight_info  \n",
       "intent_flight_search                                0  \n",
       "intent_flight_status                                1  \n",
       "intent_provide_flight_info                          5  "
      ]
     },
     "execution_count": 21,
     "metadata": {},
     "output_type": "execute_result"
    }
   ],
   "source": [
    "mlp = MLPClassifier(random_state=1, max_iter=500)\n",
    "mlp.fit(x_train,y_train)\n",
    "print(\"Training set score: {:.3f}\".format(mlp.score(x_train,y_train)))\n",
    "print(\"Testing set score: {:.3f}\".format(mlp.score(x_test,y_test)))\n",
    "\n",
    "\n",
    "pred_mlp = mlp.predict(x_test)\n",
    "confusion_mlp = confusion_matrix(y_test,pred_mlp)\n",
    "print(\"Confusion matrix:\\n\")\n",
    "\n",
    "header = pd.MultiIndex.from_product([['Predicted label'],\n",
    "                                     sorted_labels],names=['','Actual label'])\n",
    "confusion_mtrix_df =  pd.DataFrame(confusion_mlp,index=sorted_labels, \n",
    "                  columns=header)\n",
    "confusion_mtrix_df"
   ]
  },
  {
   "cell_type": "code",
   "execution_count": 22,
   "metadata": {},
   "outputs": [
    {
     "name": "stdout",
     "output_type": "stream",
     "text": [
      "                            precision    recall  f1-score   support\n",
      "\n",
      "      intent_flight_search       0.90      1.00      0.95         9\n",
      "      intent_flight_status       0.75      0.86      0.80         7\n",
      "intent_provide_flight_info       0.83      0.62      0.71         8\n",
      "\n",
      "                  accuracy                           0.83        24\n",
      "                 macro avg       0.83      0.83      0.82        24\n",
      "              weighted avg       0.83      0.83      0.83        24\n",
      "\n"
     ]
    }
   ],
   "source": [
    "print(classification_report(y_test, pred_mlp, target_names=sorted_labels))"
   ]
  },
  {
   "cell_type": "code",
   "execution_count": null,
   "metadata": {},
   "outputs": [],
   "source": []
  },
  {
   "cell_type": "code",
   "execution_count": null,
   "metadata": {},
   "outputs": [],
   "source": []
  }
 ],
 "metadata": {
  "kernelspec": {
   "display_name": "Python 3",
   "language": "python",
   "name": "python3"
  },
  "language_info": {
   "codemirror_mode": {
    "name": "ipython",
    "version": 3
   },
   "file_extension": ".py",
   "mimetype": "text/x-python",
   "name": "python",
   "nbconvert_exporter": "python",
   "pygments_lexer": "ipython3",
   "version": "3.8.5"
  }
 },
 "nbformat": 4,
 "nbformat_minor": 4
}
